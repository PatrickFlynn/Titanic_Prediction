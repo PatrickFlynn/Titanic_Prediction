{
 "cells": [
  {
   "cell_type": "code",
   "execution_count": 69,
   "metadata": {},
   "outputs": [],
   "source": [
    "import pandas as pd\n",
    "import numpy as np\n",
    "\n",
    "from sklearn.model_selection import train_test_split, GridSearchCV, cross_val_score\n",
    "from sklearn.preprocessing import StandardScaler, FunctionTransformer\n",
    "from sklearn.ensemble import RandomForestClassifier\n",
    "from sklearn.pipeline import Pipeline"
   ]
  },
  {
   "cell_type": "code",
   "execution_count": 70,
   "metadata": {},
   "outputs": [],
   "source": [
    "try:\n",
    "    df = pd.read_csv(r'C:\\Users\\CodeCave\\Documents\\DataScience\\Titanic_Prediction\\train.csv')\n",
    "except:\n",
    "    df = pd.read_csv(r'S:\\Code\\Data Science\\Titanic_Prediction\\train.csv')"
   ]
  },
  {
   "cell_type": "code",
   "execution_count": 80,
   "metadata": {},
   "outputs": [],
   "source": [
    "def preprocess_df(df, testing=True, reindexer=None):\n",
    "    \n",
    "    df['Ticket'] = df['Ticket'].str.replace('\\.|/', '')\n",
    "    temp_ticket = df['Ticket'].str.extract('(\\w*)?\\s?(.*)')\n",
    "    for index, row in temp_ticket.iterrows():\n",
    "    \n",
    "        if not row[1]:\n",
    "\n",
    "            temp_ticket.iloc[index][1] = row[0]\n",
    "            temp_ticket.iloc[index][0] = ''\n",
    "\n",
    "    temp_ticket = pd.concat([temp_ticket[1], \n",
    "                             pd.get_dummies(temp_ticket[0])[temp_ticket[0].value_counts().keys()[1:5].tolist()]], \n",
    "                            axis=1)\n",
    "    \n",
    "    temp_ticket[1] = temp_ticket[1].str.extract('(\\d{2,})')\n",
    "    temp_ticket[1] = temp_ticket[1].fillna(0).astype(int)\n",
    "    temp_ticket.rename(columns={1:\"TicketID\"}, inplace=True)\n",
    "    \n",
    "    df = pd.concat([df, temp_ticket], axis=1)\n",
    "    \n",
    "    mean_age_by_gender = df.groupby('Sex').mean()['Age'].to_dict()\n",
    "    null_age = df.loc[df['Age'].isna(), :].Sex.map(mean_age_by_gender)\n",
    "    df.loc[null_age.index, 'Age'] = null_age\n",
    "    df.loc[:, 'InCabin'] = ~df['Cabin'].isna()\n",
    "    \n",
    "    scaler = StandardScaler()\n",
    "    \n",
    "    #feats=['Age', 'Fare']\n",
    "    \n",
    "    #for feat in feats:\n",
    "        \n",
    "        #df[feat] = scaler.fit_transform(np.array(df['Age']).reshape(-1,1))\n",
    "     \n",
    "    class_dummies = pd.get_dummies(df['Pclass'])\n",
    "    class_dummies_names = ['class_' + str(x) for x in class_dummies.columns.to_list()]\n",
    "    df[class_dummies_names] = class_dummies\n",
    "    df[['female', 'male']] = pd.get_dummies(df['Sex'])\n",
    "    \n",
    "    if testing:\n",
    "        \n",
    "        df_filtered = df.drop(df[df['Embarked'].isna()].index)\n",
    "        \n",
    "    drop_columns = ['PassengerId', 'Sex', 'Ticket', 'Cabin', 'Name', 'Embarked', 'Pclass']\n",
    "    \n",
    "    df = df.fillna(0)\n",
    "    \n",
    "    df_filtered = df.drop(drop_columns, axis=1)\n",
    "    \n",
    "    if reindexer is not None:\n",
    "        \n",
    "        df_filtered = df_filtered.T.reindex(reindexer.columns, fill_value=0).T\n",
    "        \n",
    "    \n",
    "    return df_filtered"
   ]
  },
  {
   "cell_type": "code",
   "execution_count": 81,
   "metadata": {},
   "outputs": [],
   "source": [
    "df_filtered = preprocess_df(df)\n",
    "X = df_filtered.drop('Survived', axis=1)\n",
    "y = df_filtered['Survived']"
   ]
  },
  {
   "cell_type": "code",
   "execution_count": 82,
   "metadata": {},
   "outputs": [],
   "source": [
    "X_train, X_test, y_train, y_test = train_test_split(X, y, test_size=0.2, random_state=15144)"
   ]
  },
  {
   "cell_type": "code",
   "execution_count": 83,
   "metadata": {},
   "outputs": [
    {
     "data": {
      "text/plain": [
       "0.9592696629213483"
      ]
     },
     "execution_count": 83,
     "metadata": {},
     "output_type": "execute_result"
    }
   ],
   "source": [
    "rf = RandomForestClassifier(max_depth=10, max_features='auto', n_estimators=500)\n",
    "rf.fit(X_train, y_train)\n",
    "rf.score(X_train, y_train)"
   ]
  },
  {
   "cell_type": "code",
   "execution_count": 84,
   "metadata": {},
   "outputs": [
    {
     "data": {
      "text/plain": [
       "0.888268156424581"
      ]
     },
     "execution_count": 84,
     "metadata": {},
     "output_type": "execute_result"
    }
   ],
   "source": [
    "rf.score(X_test, y_test)"
   ]
  },
  {
   "cell_type": "code",
   "execution_count": 85,
   "metadata": {},
   "outputs": [
    {
     "data": {
      "text/plain": [
       "0.8441294972193848"
      ]
     },
     "execution_count": 85,
     "metadata": {},
     "output_type": "execute_result"
    }
   ],
   "source": [
    "np.mean(cross_val_score(rf, X, y, cv=10))"
   ]
  },
  {
   "cell_type": "markdown",
   "metadata": {},
   "source": [
    "# Submission"
   ]
  },
  {
   "cell_type": "code",
   "execution_count": 56,
   "metadata": {},
   "outputs": [],
   "source": [
    "try:\n",
    "    df_test = pd.read_csv(r'C:\\Users\\CodeCave\\Documents\\DataScience\\Titanic_Prediction\\test.csv')\n",
    "except:\n",
    "    df_test = pd.read_csv(r'S:\\Code\\Data Science\\Titanic_Prediction\\test.csv')"
   ]
  },
  {
   "cell_type": "code",
   "execution_count": 65,
   "metadata": {},
   "outputs": [],
   "source": [
    "df_filtered = preprocess_df(df_test, testing=False, reindexer=df)\n",
    "predictions = rf.predict(df_filtered)"
   ]
  },
  {
   "cell_type": "code",
   "execution_count": 67,
   "metadata": {},
   "outputs": [],
   "source": [
    "df_test['Survived'] = predictions"
   ]
  },
  {
   "cell_type": "code",
   "execution_count": 68,
   "metadata": {},
   "outputs": [],
   "source": [
    "try:\n",
    "    df_test[['PassengerId', 'Survived']].to_csv(r'C:\\Users\\CodeCave\\Documents\\DataScience\\Titanic_Prediction\\submission.csv', \n",
    "                                           index=False)\n",
    "except:\n",
    "    df_test[['PassengerId', 'Survived']].to_csv(r'S:\\Code\\Data Science\\Titanic_Prediction\\submission.csv',\n",
    "                                          index=False)\n"
   ]
  }
 ],
 "metadata": {
  "kernelspec": {
   "display_name": "Python 3",
   "language": "python",
   "name": "python3"
  },
  "language_info": {
   "codemirror_mode": {
    "name": "ipython",
    "version": 3
   },
   "file_extension": ".py",
   "mimetype": "text/x-python",
   "name": "python",
   "nbconvert_exporter": "python",
   "pygments_lexer": "ipython3",
   "version": "3.7.3"
  }
 },
 "nbformat": 4,
 "nbformat_minor": 2
}
