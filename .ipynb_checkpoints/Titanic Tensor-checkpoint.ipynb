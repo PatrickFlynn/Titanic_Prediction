{
 "cells": [
  {
   "cell_type": "code",
   "execution_count": 39,
   "metadata": {},
   "outputs": [],
   "source": [
    "import tensorflow as tf\n",
    "import matplotlib.pyplot as plt\n",
    "import pandas as pd\n",
    "import numpy as np"
   ]
  },
  {
   "cell_type": "code",
   "execution_count": 4,
   "metadata": {},
   "outputs": [
    {
     "data": {
      "text/plain": [
       "<tf.Tensor: id=0, shape=(1,), dtype=int32, numpy=array([1])>"
      ]
     },
     "execution_count": 4,
     "metadata": {},
     "output_type": "execute_result"
    }
   ],
   "source": [
    "tf.constant([1])"
   ]
  },
  {
   "cell_type": "code",
   "execution_count": 5,
   "metadata": {},
   "outputs": [],
   "source": [
    "feats = tf.constant([[53,65], [45,36]])\n",
    "params = tf.constant([[5],[20]])"
   ]
  },
  {
   "cell_type": "code",
   "execution_count": 6,
   "metadata": {},
   "outputs": [],
   "source": [
    "mults = tf.matmul(feats, params)"
   ]
  },
  {
   "cell_type": "code",
   "execution_count": 7,
   "metadata": {},
   "outputs": [
    {
     "data": {
      "text/plain": [
       "array([[1565],\n",
       "       [ 945]])"
      ]
     },
     "execution_count": 7,
     "metadata": {},
     "output_type": "execute_result"
    }
   ],
   "source": [
    "mults.numpy()"
   ]
  },
  {
   "cell_type": "code",
   "execution_count": 8,
   "metadata": {},
   "outputs": [
    {
     "data": {
      "text/plain": [
       "array([ 98, 101])"
      ]
     },
     "execution_count": 8,
     "metadata": {},
     "output_type": "execute_result"
    }
   ],
   "source": [
    "tf.reduce_sum(feats, 0).numpy()"
   ]
  },
  {
   "cell_type": "code",
   "execution_count": 9,
   "metadata": {},
   "outputs": [
    {
     "data": {
      "text/plain": [
       "array([118,  81])"
      ]
     },
     "execution_count": 9,
     "metadata": {},
     "output_type": "execute_result"
    }
   ],
   "source": [
    "tf.reduce_sum(feats, 1).numpy()"
   ]
  },
  {
   "cell_type": "code",
   "execution_count": 10,
   "metadata": {},
   "outputs": [],
   "source": [
    "x = tf.Variable(-1.0)"
   ]
  },
  {
   "cell_type": "markdown",
   "metadata": {},
   "source": [
    "# Gradient Tape"
   ]
  },
  {
   "cell_type": "code",
   "execution_count": 14,
   "metadata": {},
   "outputs": [
    {
     "name": "stdout",
     "output_type": "stream",
     "text": [
      "x: <tf.Variable 'Variable:0' shape=() dtype=float32, numpy=-1.0>\n",
      "y: tf.Tensor(1.0, shape=(), dtype=float32)\n"
     ]
    }
   ],
   "source": [
    "with tf.GradientTape() as tape:\n",
    "    \n",
    "    tape.watch(x)\n",
    "    y = tf.multiply(x, x)\n",
    "    print('x:', x)\n",
    "    print('y:', y)"
   ]
  },
  {
   "cell_type": "code",
   "execution_count": 13,
   "metadata": {},
   "outputs": [
    {
     "name": "stdout",
     "output_type": "stream",
     "text": [
      "-2.0\n"
     ]
    }
   ],
   "source": [
    "g = tape.gradient(y, x)\n",
    "print(g.numpy())"
   ]
  },
  {
   "cell_type": "markdown",
   "metadata": {},
   "source": [
    "# Images"
   ]
  },
  {
   "cell_type": "code",
   "execution_count": 33,
   "metadata": {},
   "outputs": [],
   "source": [
    "gray = tf.random.uniform([2,2], maxval=255, dtype='int32')"
   ]
  },
  {
   "cell_type": "code",
   "execution_count": 34,
   "metadata": {},
   "outputs": [
    {
     "data": {
      "text/plain": [
       "array([[ 73, 212],\n",
       "       [100, 139]])"
      ]
     },
     "execution_count": 34,
     "metadata": {},
     "output_type": "execute_result"
    }
   ],
   "source": [
    "gray.numpy()"
   ]
  },
  {
   "cell_type": "code",
   "execution_count": 35,
   "metadata": {},
   "outputs": [
    {
     "data": {
      "image/png": "[encoded data removed]",
      "text/plain": [
       "<Figure size 432x288 with 1 Axes>"
      ]
     },
     "metadata": {
      "needs_background": "light"
     },
     "output_type": "display_data"
    }
   ],
   "source": [
    "plt.imshow(gray.numpy(), cmap='gray', vmin=0, vmax=255)\n",
    "plt.show()"
   ]
  },
  {
   "cell_type": "markdown",
   "metadata": {},
   "source": [
    "### Reshape"
   ]
  },
  {
   "cell_type": "code",
   "execution_count": 36,
   "metadata": {},
   "outputs": [],
   "source": [
    "gray = tf.reshape(gray, [2*2, 1])"
   ]
  },
  {
   "cell_type": "code",
   "execution_count": 38,
   "metadata": {},
   "outputs": [
    {
     "data": {
      "image/png": "[encoded data removed]",
      "text/plain": [
       "<Figure size 432x288 with 1 Axes>"
      ]
     },
     "metadata": {
      "needs_background": "light"
     },
     "output_type": "display_data"
    }
   ],
   "source": [
    "plt.imshow(gray.numpy(), cmap='gray', vmin=0, vmax=255)\n",
    "plt.show()"
   ]
  },
  {
   "cell_type": "code",
   "execution_count": 40,
   "metadata": {},
   "outputs": [],
   "source": [
    "df = pd.read_csv('train.csv')"
   ]
  },
  {
   "cell_type": "code",
   "execution_count": 41,
   "metadata": {},
   "outputs": [],
   "source": [
    "fare = tf.cast(df['Fare'], tf.float32)"
   ]
  },
  {
   "cell_type": "code",
   "execution_count": 42,
   "metadata": {},
   "outputs": [
    {
     "data": {
      "text/plain": [
       "<tf.Tensor: id=48, shape=(891,), dtype=float32, numpy=\n",
       "array([  7.25  ,  71.2833,   7.925 ,  53.1   ,   8.05  ,   8.4583,\n",
       "        51.8625,  21.075 ,  11.1333,  30.0708,  16.7   ,  26.55  ,\n",
       "         8.05  ,  31.275 ,   7.8542,  16.    ,  29.125 ,  13.    ,\n",
       "        18.    ,   7.225 ,  26.    ,  13.    ,   8.0292,  35.5   ,\n",
       "        21.075 ,  31.3875,   7.225 , 263.    ,   7.8792,   7.8958,\n",
       "        27.7208, 146.5208,   7.75  ,  10.5   ,  82.1708,  52.    ,\n",
       "         7.2292,   8.05  ,  18.    ,  11.2417,   9.475 ,  21.    ,\n",
       "         7.8958,  41.5792,   7.8792,   8.05  ,  15.5   ,   7.75  ,\n",
       "        21.6792,  17.8   ,  39.6875,   7.8   ,  76.7292,  26.    ,\n",
       "        61.9792,  35.5   ,  10.5   ,   7.2292,  27.75  ,  46.9   ,\n",
       "         7.2292,  80.    ,  83.475 ,  27.9   ,  27.7208,  15.2458,\n",
       "        10.5   ,   8.1583,   7.925 ,   8.6625,  10.5   ,  46.9   ,\n",
       "        73.5   ,  14.4542,  56.4958,   7.65  ,   7.8958,   8.05  ,\n",
       "        29.    ,  12.475 ,   9.    ,   9.5   ,   7.7875,  47.1   ,\n",
       "        10.5   ,  15.85  ,  34.375 ,   8.05  , 263.    ,   8.05  ,\n",
       "         8.05  ,   7.8542,  61.175 ,  20.575 ,   7.25  ,   8.05  ,\n",
       "        34.6542,  63.3583,  23.    ,  26.    ,   7.8958,   7.8958,\n",
       "        77.2875,   8.6542,   7.925 ,   7.8958,   7.65  ,   7.775 ,\n",
       "         7.8958,  24.15  ,  52.    ,  14.4542,   8.05  ,   9.825 ,\n",
       "        14.4583,   7.925 ,   7.75  ,  21.    , 247.5208,  31.275 ,\n",
       "        73.5   ,   8.05  ,  30.0708,  13.    ,  77.2875,  11.2417,\n",
       "         7.75  ,   7.1417,  22.3583,   6.975 ,   7.8958,   7.05  ,\n",
       "        14.5   ,  26.    ,  13.    ,  15.0458,  26.2833,  53.1   ,\n",
       "         9.2167,  79.2   ,  15.2458,   7.75  ,  15.85  ,   6.75  ,\n",
       "        11.5   ,  36.75  ,   7.7958,  34.375 ,  26.    ,  13.    ,\n",
       "        12.525 ,  66.6   ,   8.05  ,  14.5   ,   7.3125,  61.3792,\n",
       "         7.7333,   8.05  ,   8.6625,  69.55  ,  16.1   ,  15.75  ,\n",
       "         7.775 ,   8.6625,  39.6875,  20.525 ,  55.    ,  27.9   ,\n",
       "        25.925 ,  56.4958,  33.5   ,  29.125 ,  11.1333,   7.925 ,\n",
       "        30.6958,   7.8542,  25.4667,  28.7125,  13.    ,   0.    ,\n",
       "        69.55  ,  15.05  ,  31.3875,  39.    ,  22.025 ,  50.    ,\n",
       "        15.5   ,  26.55  ,  15.5   ,   7.8958,  13.    ,  13.    ,\n",
       "         7.8542,  26.    ,  27.7208, 146.5208,   7.75  ,   8.4042,\n",
       "         7.75  ,  13.    ,   9.5   ,  69.55  ,   6.4958,   7.225 ,\n",
       "         8.05  ,  10.4625,  15.85  ,  18.7875,   7.75  ,  31.    ,\n",
       "         7.05  ,  21.    ,   7.25  ,  13.    ,   7.75  , 113.275 ,\n",
       "         7.925 ,  27.    ,  76.2917,  10.5   ,   8.05  ,  13.    ,\n",
       "         8.05  ,   7.8958,  90.    ,   9.35  ,  10.5   ,   7.25  ,\n",
       "        13.    ,  25.4667,  83.475 ,   7.775 ,  13.5   ,  31.3875,\n",
       "        10.5   ,   7.55  ,  26.    ,  26.25  ,  10.5   ,  12.275 ,\n",
       "        14.4542,  15.5   ,  10.5   ,   7.125 ,   7.225 ,  90.    ,\n",
       "         7.775 ,  14.5   ,  52.5542,  26.    ,   7.25  ,  10.4625,\n",
       "        26.55  ,  16.1   ,  20.2125,  15.2458,  79.2   ,  86.5   ,\n",
       "       512.3292,  26.    ,   7.75  ,  31.3875,  79.65  ,   0.    ,\n",
       "         7.75  ,  10.5   ,  39.6875,   7.775 , 153.4625, 135.6333,\n",
       "        31.    ,   0.    ,  19.5   ,  29.7   ,   7.75  ,  77.9583,\n",
       "         7.75  ,   0.    ,  29.125 ,  20.25  ,   7.75  ,   7.8542,\n",
       "         9.5   ,   8.05  ,  26.    ,   8.6625,   9.5   ,   7.8958,\n",
       "        13.    ,   7.75  ,  78.85  ,  91.0792,  12.875 ,   8.85  ,\n",
       "         7.8958,  27.7208,   7.2292, 151.55  ,  30.5   , 247.5208,\n",
       "         7.75  ,  23.25  ,   0.    ,  12.35  ,   8.05  , 151.55  ,\n",
       "       110.8833, 108.9   ,  24.    ,  56.9292,  83.1583, 262.375 ,\n",
       "        26.    ,   7.8958,  26.25  ,   7.8542,  26.    ,  14.    ,\n",
       "       164.8667, 134.5   ,   7.25  ,   7.8958,  12.35  ,  29.    ,\n",
       "        69.55  , 135.6333,   6.2375,  13.    ,  20.525 ,  57.9792,\n",
       "        23.25  ,  28.5   , 153.4625,  18.    , 133.65  ,   7.8958,\n",
       "        66.6   , 134.5   ,   8.05  ,  35.5   ,  26.    , 263.    ,\n",
       "        13.    ,  13.    ,  13.    ,  13.    ,  13.    ,  16.1   ,\n",
       "        15.9   ,   8.6625,   9.225 ,  35.    ,   7.2292,  17.8   ,\n",
       "         7.225 ,   9.5   ,  55.    ,  13.    ,   7.8792,   7.8792,\n",
       "        27.9   ,  27.7208,  14.4542,   7.05  ,  15.5   ,   7.25  ,\n",
       "        75.25  ,   7.2292,   7.75  ,  69.3   ,  55.4417,   6.4958,\n",
       "         8.05  , 135.6333,  21.075 ,  82.1708,   7.25  , 211.5   ,\n",
       "         4.0125,   7.775 , 227.525 ,  15.7417,   7.925 ,  52.    ,\n",
       "         7.8958,  73.5   ,  46.9   ,  13.    ,   7.7292,  12.    ,\n",
       "       120.    ,   7.7958,   7.925 , 113.275 ,  16.7   ,   7.7958,\n",
       "         7.8542,  26.    ,  10.5   ,  12.65  ,   7.925 ,   8.05  ,\n",
       "         9.825 ,  15.85  ,   8.6625,  21.    ,   7.75  ,  18.75  ,\n",
       "         7.775 ,  25.4667,   7.8958,   6.8583,  90.    ,   0.    ,\n",
       "         7.925 ,   8.05  ,  32.5   ,  13.    ,  13.    ,  24.15  ,\n",
       "         7.8958,   7.7333,   7.875 ,  14.4   ,  20.2125,   7.25  ,\n",
       "        26.    ,  26.    ,   7.75  ,   8.05  ,  26.55  ,  16.1   ,\n",
       "        26.    ,   7.125 ,  55.9   , 120.    ,  34.375 ,  18.75  ,\n",
       "       263.    ,  10.5   ,  26.25  ,   9.5   ,   7.775 ,  13.    ,\n",
       "         8.1125,  81.8583,  19.5   ,  26.55  ,  19.2583,  30.5   ,\n",
       "        27.75  ,  19.9667,  27.75  ,  89.1042,   8.05  ,   7.8958,\n",
       "        26.55  ,  51.8625,  10.5   ,   7.75  ,  26.55  ,   8.05  ,\n",
       "        38.5   ,  13.    ,   8.05  ,   7.05  ,   0.    ,  26.55  ,\n",
       "         7.725 ,  19.2583,   7.25  ,   8.6625,  27.75  ,  13.7917,\n",
       "         9.8375,  52.    ,  21.    ,   7.0458,   7.5208,  12.2875,\n",
       "        46.9   ,   0.    ,   8.05  ,   9.5875,  91.0792,  25.4667,\n",
       "        90.    ,  29.7   ,   8.05  ,  15.9   ,  19.9667,   7.25  ,\n",
       "        30.5   ,  49.5042,   8.05  ,  14.4583,  78.2667,  15.1   ,\n",
       "       151.55  ,   7.7958,   8.6625,   7.75  ,   7.6292,   9.5875,\n",
       "        86.5   , 108.9   ,  26.    ,  26.55  ,  22.525 ,  56.4958,\n",
       "         7.75  ,   8.05  ,  26.2875,  59.4   ,   7.4958,  34.0208,\n",
       "        10.5   ,  24.15  ,  26.    ,   7.8958,  93.5   ,   7.8958,\n",
       "         7.225 ,  57.9792,   7.2292,   7.75  ,  10.5   , 221.7792,\n",
       "         7.925 ,  11.5   ,  26.    ,   7.2292,   7.2292,  22.3583,\n",
       "         8.6625,  26.25  ,  26.55  , 106.425 ,  14.5   ,  49.5   ,\n",
       "        71.    ,  31.275 ,  31.275 ,  26.    , 106.425 ,  26.    ,\n",
       "        26.    ,  13.8625,  20.525 ,  36.75  , 110.8833,  26.    ,\n",
       "         7.8292,   7.225 ,   7.775 ,  26.55  ,  39.6   , 227.525 ,\n",
       "        79.65  ,  17.4   ,   7.75  ,   7.8958,  13.5   ,   8.05  ,\n",
       "         8.05  ,  24.15  ,   7.8958,  21.075 ,   7.2292,   7.8542,\n",
       "        10.5   ,  51.4792,  26.3875,   7.75  ,   8.05  ,  14.5   ,\n",
       "        13.    ,  55.9   ,  14.4583,   7.925 ,  30.    , 110.8833,\n",
       "        26.    ,  40.125 ,   8.7125,  79.65  ,  15.    ,  79.2   ,\n",
       "         8.05  ,   8.05  ,   7.125 ,  78.2667,   7.25  ,   7.75  ,\n",
       "        26.    ,  24.15  ,  33.    ,   0.    ,   7.225 ,  56.9292,\n",
       "        27.    ,   7.8958,  42.4   ,   8.05  ,  26.55  ,  15.55  ,\n",
       "         7.8958,  30.5   ,  41.5792, 153.4625,  31.275 ,   7.05  ,\n",
       "        15.5   ,   7.75  ,   8.05  ,  65.    ,  14.4   ,  16.1   ,\n",
       "        39.    ,  10.5   ,  14.4542,  52.5542,  15.7417,   7.8542,\n",
       "        16.1   ,  32.3208,  12.35  ,  77.9583,   7.8958,   7.7333,\n",
       "        30.    ,   7.0542,  30.5   ,   0.    ,  27.9   ,  13.    ,\n",
       "         7.925 ,  26.25  ,  39.6875,  16.1   ,   7.8542,  69.3   ,\n",
       "        27.9   ,  56.4958,  19.2583,  76.7292,   7.8958,  35.5   ,\n",
       "         7.55  ,   7.55  ,   7.8958,  23.    ,   8.4333,   7.8292,\n",
       "         6.75  ,  73.5   ,   7.8958,  15.5   ,  13.    , 113.275 ,\n",
       "       133.65  ,   7.225 ,  25.5875,   7.4958,   7.925 ,  73.5   ,\n",
       "        13.    ,   7.775 ,   8.05  ,  52.    ,  39.    ,  52.    ,\n",
       "        10.5   ,  13.    ,   0.    ,   7.775 ,   8.05  ,   9.8417,\n",
       "        46.9   , 512.3292,   8.1375,  76.7292,   9.225 ,  46.9   ,\n",
       "        39.    ,  41.5792,  39.6875,  10.1708,   7.7958, 211.3375,\n",
       "        57.    ,  13.4167,  56.4958,   7.225 ,  26.55  ,  13.5   ,\n",
       "         8.05  ,   7.7333, 110.8833,   7.65  , 227.525 ,  26.2875,\n",
       "        14.4542,   7.7417,   7.8542,  26.    ,  13.5   ,  26.2875,\n",
       "       151.55  ,  15.2458,  49.5042,  26.55  ,  52.    ,   9.4833,\n",
       "        13.    ,   7.65  , 227.525 ,  10.5   ,  15.5   ,   7.775 ,\n",
       "        33.    ,   7.0542,  13.    ,  13.    ,  53.1   ,   8.6625,\n",
       "        21.    ,   7.7375,  26.    ,   7.925 , 211.3375,  18.7875,\n",
       "         0.    ,  13.    ,  13.    ,  16.1   ,  34.375 , 512.3292,\n",
       "         7.8958,   7.8958,  30.    ,  78.85  , 262.375 ,  16.1   ,\n",
       "         7.925 ,  71.    ,  20.25  ,  13.    ,  53.1   ,   7.75  ,\n",
       "        23.    ,  12.475 ,   9.5   ,   7.8958,  65.    ,  14.5   ,\n",
       "         7.7958,  11.5   ,   8.05  ,  86.5   ,  14.5   ,   7.125 ,\n",
       "         7.2292, 120.    ,   7.775 ,  77.9583,  39.6   ,   7.75  ,\n",
       "        24.15  ,   8.3625,   9.5   ,   7.8542,  10.5   ,   7.225 ,\n",
       "        23.    ,   7.75  ,   7.75  ,  12.475 ,   7.7375, 211.3375,\n",
       "         7.2292,  57.    ,  30.    ,  23.45  ,   7.05  ,   7.25  ,\n",
       "         7.4958,  29.125 ,  20.575 ,  79.2   ,   7.75  ,  26.    ,\n",
       "        69.55  ,  30.6958,   7.8958,  13.    ,  25.9292,   8.6833,\n",
       "         7.2292,  24.15  ,  13.    ,  26.25  , 120.    ,   8.5167,\n",
       "         6.975 ,   7.775 ,   0.    ,   7.775 ,  13.    ,  53.1   ,\n",
       "         7.8875,  24.15  ,  10.5   ,  31.275 ,   8.05  ,   0.    ,\n",
       "         7.925 ,  37.0042,   6.45  ,  27.9   ,  93.5   ,   8.6625,\n",
       "         0.    ,  12.475 ,  39.6875,   6.95  ,  56.4958,  37.0042,\n",
       "         7.75  ,  80.    ,  14.4542,  18.75  ,   7.2292,   7.8542,\n",
       "         8.3   ,  83.1583,   8.6625,   8.05  ,  56.4958,  29.7   ,\n",
       "         7.925 ,  10.5   ,  31.    ,   6.4375,   8.6625,   7.55  ,\n",
       "        69.55  ,   7.8958,  33.    ,  89.1042,  31.275 ,   7.775 ,\n",
       "        15.2458,  39.4   ,  26.    ,   9.35  , 164.8667,  26.55  ,\n",
       "        19.2583,   7.2292,  14.1083,  11.5   ,  25.9292,  69.55  ,\n",
       "        13.    ,  13.    ,  13.8583,  50.4958,   9.5   ,  11.1333,\n",
       "         7.8958,  52.5542,   5.    ,   9.    ,  24.    ,   7.225 ,\n",
       "         9.8458,   7.8958,   7.8958,  83.1583,  26.    ,   7.8958,\n",
       "        10.5167,  10.5   ,   7.05  ,  29.125 ,  13.    ,  30.    ,\n",
       "        23.45  ,  30.    ,   7.75  ], dtype=float32)>"
      ]
     },
     "execution_count": 42,
     "metadata": {},
     "output_type": "execute_result"
    }
   ],
   "source": [
    "fare"
   ]
  }
 ],
 "metadata": {
  "kernelspec": {
   "display_name": "Python 3",
   "language": "python",
   "name": "python3"
  },
  "language_info": {
   "codemirror_mode": {
    "name": "ipython",
    "version": 3
   },
   "file_extension": ".py",
   "mimetype": "text/x-python",
   "name": "python",
   "nbconvert_exporter": "python",
   "pygments_lexer": "ipython3",
   "version": "3.7.3"
  }
 },
 "nbformat": 4,
 "nbformat_minor": 2
}
